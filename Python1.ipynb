{
 "cells": [
  {
   "cell_type": "code",
   "execution_count": 34,
   "metadata": {},
   "outputs": [],
   "source": [
    "import pandas as pd\n",
    "import numpy as np\n",
    "import yfinance as yf\n",
    "import matplotlib.pyplot as plt"
   ]
  },
  {
   "cell_type": "code",
   "execution_count": 9,
   "metadata": {},
   "outputs": [
    {
     "name": "stdout",
     "output_type": "stream",
     "text": [
      "1    a\n",
      "2    b\n",
      "3    c\n",
      "4    d\n",
      "Name: L, dtype: object\n"
     ]
    }
   ],
   "source": [
    "l = ['a','b','c','d']\n",
    "ser = pd.Series(l,name='L',index=[1,2,3,4])\n",
    "print(ser)"
   ]
  },
  {
   "cell_type": "code",
   "execution_count": 11,
   "metadata": {},
   "outputs": [
    {
     "name": "stdout",
     "output_type": "stream",
     "text": [
      "a     22\n",
      "b     23\n",
      "c     24\n",
      "d    100\n",
      "Name: D, dtype: int64\n"
     ]
    }
   ],
   "source": [
    "d = {'a':22,'b':23,'c':24,'d':100}\n",
    "ser = pd.Series(d,name='D')\n",
    "print(ser)"
   ]
  },
  {
   "cell_type": "code",
   "execution_count": 19,
   "metadata": {},
   "outputs": [
    {
     "name": "stdout",
     "output_type": "stream",
     "text": [
      "      color      director_name  num_critic_for_reviews  duration  \\\n",
      "0     Color      James Cameron                   723.0     178.0   \n",
      "1     Color     Gore Verbinski                   302.0     169.0   \n",
      "2     Color         Sam Mendes                   602.0     148.0   \n",
      "3     Color  Christopher Nolan                   813.0     164.0   \n",
      "4       NaN        Doug Walker                     NaN       NaN   \n",
      "...     ...                ...                     ...       ...   \n",
      "4911  Color        Scott Smith                     1.0      87.0   \n",
      "4912  Color                NaN                    43.0      43.0   \n",
      "4913  Color   Benjamin Roberds                    13.0      76.0   \n",
      "4914  Color        Daniel Hsia                    14.0     100.0   \n",
      "4915  Color           Jon Gunn                    43.0      90.0   \n",
      "\n",
      "      director_facebook_likes  actor_3_facebook_likes      actor_2_name  \\\n",
      "0                         0.0                   855.0  Joel David Moore   \n",
      "1                       563.0                  1000.0     Orlando Bloom   \n",
      "2                         0.0                   161.0      Rory Kinnear   \n",
      "3                     22000.0                 23000.0    Christian Bale   \n",
      "4                       131.0                     NaN        Rob Walker   \n",
      "...                       ...                     ...               ...   \n",
      "4911                      2.0                   318.0     Daphne Zuniga   \n",
      "4912                      NaN                   319.0     Valorie Curry   \n",
      "4913                      0.0                     0.0     Maxwell Moody   \n",
      "4914                      0.0                   489.0     Daniel Henney   \n",
      "4915                     16.0                    16.0  Brian Herzlinger   \n",
      "\n",
      "      actor_1_facebook_likes        gross                           genres  \\\n",
      "0                     1000.0  760505847.0  Action|Adventure|Fantasy|Sci-Fi   \n",
      "1                    40000.0  309404152.0         Action|Adventure|Fantasy   \n",
      "2                    11000.0  200074175.0        Action|Adventure|Thriller   \n",
      "3                    27000.0  448130642.0                  Action|Thriller   \n",
      "4                      131.0          NaN                      Documentary   \n",
      "...                      ...          ...                              ...   \n",
      "4911                   637.0          NaN                     Comedy|Drama   \n",
      "4912                   841.0          NaN     Crime|Drama|Mystery|Thriller   \n",
      "4913                     0.0          NaN            Drama|Horror|Thriller   \n",
      "4914                   946.0      10443.0             Comedy|Drama|Romance   \n",
      "4915                    86.0      85222.0                      Documentary   \n",
      "\n",
      "      ... num_user_for_reviews language  country  content_rating       budget  \\\n",
      "0     ...               3054.0  English      USA           PG-13  237000000.0   \n",
      "1     ...               1238.0  English      USA           PG-13  300000000.0   \n",
      "2     ...                994.0  English       UK           PG-13  245000000.0   \n",
      "3     ...               2701.0  English      USA           PG-13  250000000.0   \n",
      "4     ...                  NaN      NaN      NaN             NaN          NaN   \n",
      "...   ...                  ...      ...      ...             ...          ...   \n",
      "4911  ...                  6.0  English   Canada             NaN          NaN   \n",
      "4912  ...                359.0  English      USA           TV-14          NaN   \n",
      "4913  ...                  3.0  English      USA             NaN       1400.0   \n",
      "4914  ...                  9.0  English      USA           PG-13          NaN   \n",
      "4915  ...                 84.0  English      USA              PG       1100.0   \n",
      "\n",
      "      title_year actor_2_facebook_likes imdb_score  aspect_ratio  \\\n",
      "0         2009.0                  936.0        7.9          1.78   \n",
      "1         2007.0                 5000.0        7.1          2.35   \n",
      "2         2015.0                  393.0        6.8          2.35   \n",
      "3         2012.0                23000.0        8.5          2.35   \n",
      "4            NaN                   12.0        7.1           NaN   \n",
      "...          ...                    ...        ...           ...   \n",
      "4911      2013.0                  470.0        7.7           NaN   \n",
      "4912         NaN                  593.0        7.5         16.00   \n",
      "4913      2013.0                    0.0        6.3           NaN   \n",
      "4914      2012.0                  719.0        6.3          2.35   \n",
      "4915      2004.0                   23.0        6.6          1.85   \n",
      "\n",
      "     movie_facebook_likes  \n",
      "0                   33000  \n",
      "1                       0  \n",
      "2                   85000  \n",
      "3                  164000  \n",
      "4                       0  \n",
      "...                   ...  \n",
      "4911                   84  \n",
      "4912                32000  \n",
      "4913                   16  \n",
      "4914                  660  \n",
      "4915                  456  \n",
      "\n",
      "[4916 rows x 28 columns]\n"
     ]
    }
   ],
   "source": [
    "copy = pd.read_csv('movie.csv')\n",
    "print(copy)"
   ]
  },
  {
   "cell_type": "code",
   "execution_count": 22,
   "metadata": {},
   "outputs": [
    {
     "name": "stdout",
     "output_type": "stream",
     "text": [
      "   A  B  C  D\n",
      "0  1  1  1  1\n",
      "1  2  2  2  2\n",
      "2  3  3  3  3\n",
      "3  4  4  4  4\n",
      "       D\n",
      "A B C   \n",
      "1 1 1  1\n",
      "2 2 2  2\n",
      "3 3 3  3\n",
      "4 4 4  4\n",
      "['A', 'B', 'C', 'D']\n"
     ]
    }
   ],
   "source": [
    "dic = {'A':[1,2,3,4],\n",
    "      'B':[1,2,3,4],\n",
    "      'C':[1,2,3,4],\n",
    "      'D':[1,2,3,4]}\n",
    "copy1 = pd.DataFrame(dic)\n",
    "print(copy1)\n",
    "copy1.set_index(['A', 'B', 'C'],inplace=True)\n",
    "print(copy1)\n",
    "print(list(dic.keys()))"
   ]
  },
  {
   "cell_type": "code",
   "execution_count": 5,
   "metadata": {},
   "outputs": [
    {
     "data": {
      "text/plain": [
       "0           James Cameron\n",
       "1          Gore Verbinski\n",
       "2              Sam Mendes\n",
       "3       Christopher Nolan\n",
       "4             Doug Walker\n",
       "              ...        \n",
       "4911          Scott Smith\n",
       "4912                  NaN\n",
       "4913     Benjamin Roberds\n",
       "4914          Daniel Hsia\n",
       "4915             Jon Gunn\n",
       "Name: director_name, Length: 4916, dtype: object"
      ]
     },
     "execution_count": 5,
     "metadata": {},
     "output_type": "execute_result"
    }
   ],
   "source": [
    "directors = copy['director_name']\n",
    "directors"
   ]
  },
  {
   "cell_type": "code",
   "execution_count": 6,
   "metadata": {},
   "outputs": [
    {
     "name": "stdout",
     "output_type": "stream",
     "text": [
      "Empty DataFrame\n",
      "Columns: [A]\n",
      "Index: []\n"
     ]
    }
   ],
   "source": [
    "d1 = {'A':[]}\n",
    "df1 = pd.DataFrame(d1)\n",
    "print(df1)"
   ]
  },
  {
   "cell_type": "code",
   "execution_count": 21,
   "metadata": {},
   "outputs": [
    {
     "name": "stdout",
     "output_type": "stream",
     "text": [
      "   X  Y\n",
      "A  1  4\n",
      "B  4  6\n",
      "C  5  7\n",
      "<class 'pandas.core.frame.DataFrame'>\n"
     ]
    }
   ],
   "source": [
    "data = pd.DataFrame([[1,4],[4,6],[5,7]],index=['A','B','C'],columns=['X','Y'])\n",
    "print(data)\n",
    "print(type(data))"
   ]
  },
  {
   "cell_type": "code",
   "execution_count": 68,
   "metadata": {},
   "outputs": [],
   "source": [
    "def remove_outlines(df,col):\n",
    "    Q1 = df[col].quantile(0.25)\n",
    "    Q2 = df[col].quantile(0.75)\n",
    "    IQR = Q2-Q1\n",
    "    lower = Q1-1.5*IQR\n",
    "    upper = Q2+1.5*IQR    \n",
    "    return df[(df[col]>=lower)&(df[col]<=upper)]"
   ]
  },
  {
   "cell_type": "code",
   "execution_count": null,
   "metadata": {},
   "outputs": [],
   "source": []
  },
  {
   "cell_type": "code",
   "execution_count": 76,
   "metadata": {},
   "outputs": [
    {
     "name": "stderr",
     "output_type": "stream",
     "text": [
      "\r",
      "[*********************100%%**********************]  1 of 1 completed"
     ]
    },
    {
     "name": "stdout",
     "output_type": "stream",
     "text": [
      "                Price      Volume\n",
      "Date                             \n",
      "2020-01-01   2.203713   630721016\n",
      "2020-02-01   2.479177   363192746\n",
      "2020-03-01   1.790517   293603812\n",
      "2020-04-01   2.387356   189547964\n",
      "2020-05-01   2.570999   191180448\n",
      "2020-06-01   4.636980   589940311\n",
      "2020-07-01   3.948320   605041594\n",
      "2020-08-01   3.443302   391939527\n",
      "2020-09-01   2.662820   348839221\n",
      "2020-10-01   3.351480   219486875\n",
      "2020-11-01   3.167838   227194167\n",
      "2020-12-01   5.876569   455220599\n",
      "2021-01-01   5.784748   417355128\n",
      "2021-02-01   5.325641   710977313\n",
      "2021-03-01   4.591069   577392920\n",
      "2021-04-01   4.407427   308299792\n",
      "2021-05-01   5.233819   769633167\n",
      "2021-06-01   7.345711  2508870996\n",
      "2021-07-01   5.784748  1384951847\n",
      "2021-08-01   5.555194   963885333\n",
      "2021-09-01   5.922480   655850382\n",
      "2021-10-01   6.197944   974975388\n",
      "2021-11-01   6.289765   586745240\n",
      "2021-12-01   9.365782  1579742540\n",
      "2022-01-01  10.972656  2825075373\n",
      "2022-02-01   8.631211  1619481570\n",
      "2022-03-01   8.401657   764407823\n",
      "2022-04-01   9.182139  1132798620\n",
      "2022-05-01   7.850729   914998203\n",
      "2022-06-01   6.289765  1245962758\n",
      "2022-07-01   6.060212  1070188466\n",
      "2022-08-01   7.529354  1931799401\n",
      "2022-09-01   7.988461  3901769223\n",
      "2022-10-01   7.950000  3211527557\n",
      "2022-11-01   9.250000  1774221569\n",
      "2022-12-01  10.600000  5853120737\n",
      "2023-01-01   9.800000  1720296361\n",
      "2023-02-01   8.200000  1225032728\n",
      "2023-03-01   7.900000  1146582611\n",
      "2023-04-01   8.300000   768591307\n",
      "2023-05-01  11.750000  3439263987\n",
      "2023-06-01  15.300000  5496015911\n",
      "2023-07-01  18.950001  4887266210\n"
     ]
    },
    {
     "name": "stderr",
     "output_type": "stream",
     "text": [
      "\n"
     ]
    },
    {
     "data": {
      "image/png": "[encoded data removed]",
      "text/plain": [
       "<Figure size 432x288 with 1 Axes>"
      ]
     },
     "metadata": {
      "needs_background": "light"
     },
     "output_type": "display_data"
    }
   ],
   "source": [
    "suzlon = yf.Ticker('suzlon.ns')\n",
    "data = yf.download(\"suzlon.ns\", start=\"2020-01-01\", end=\"2024-04-30\", interval=\"1mo\")\n",
    "# print(data)\n",
    "data1 = data.drop(['Open','High','Low','Adj Close'],axis=1)\n",
    "data1.rename(columns={'Close':'Price'},inplace=True)\n",
    "# df = pd.DataFrame({'A':[1,1,2,1,2,1,2,1,2,1],\n",
    "#                    'B':[1,22,23,24,25,26,27,28,29,50]})\n",
    "data2 = remove_outlines(data1,'Price')\n",
    "print(data2)\n",
    "fig ,ax = plt.subplots()\n",
    "ax.boxplot(data2['Price'])\n",
    "plt.show()"
   ]
  },
  {
   "cell_type": "code",
   "execution_count": 3,
   "metadata": {},
   "outputs": [
    {
     "name": "stderr",
     "output_type": "stream",
     "text": [
      "\r",
      "[*********************100%%**********************]  1 of 1 completed"
     ]
    },
    {
     "name": "stdout",
     "output_type": "stream",
     "text": [
      "                 Open       High   Low      Close  Adj Close    Volume\n",
      "Date                                                                  \n",
      "2024-04-30  41.950001  42.099998  41.0  41.599998  41.599998  30499261\n"
     ]
    },
    {
     "name": "stderr",
     "output_type": "stream",
     "text": [
      "\n"
     ]
    }
   ],
   "source": [
    "data = yf.download(\"suzlon.ns\", period=\"10sec\")\n",
    "print(data)"
   ]
  },
  {
   "cell_type": "code",
   "execution_count": 5,
   "metadata": {},
   "outputs": [
    {
     "name": "stdout",
     "output_type": "stream",
     "text": [
      "   A   B  C\n",
      "0  2   2  x\n",
      "1  2   2  Y\n",
      "2  5   5  A\n",
      "3  5   5  B\n",
      "4  5   0  C\n",
      "5  6  11  J\n",
      "   A   B  C\n",
      "0  2   2  x\n",
      "2  5   5  A\n",
      "4  5   0  C\n",
      "5  6  11  J\n"
     ]
    }
   ],
   "source": [
    "df = pd.DataFrame({'A':[2,2,5,5,5,6],\n",
    "                   'B':[2,2,5,7,0,11],\n",
    "                   'C':['x','Y','A','B','C','J']})\n",
    "print(df)\n",
    "df1 = df.drop_duplicates(subset=['A','B'],keep='first')\n",
    "print(df1)"
   ]
  },
  {
   "cell_type": "code",
   "execution_count": null,
   "metadata": {},
   "outputs": [],
   "source": []
  }
 ],
 "metadata": {
  "kernelspec": {
   "display_name": "Python 3",
   "language": "python",
   "name": "python3"
  },
  "language_info": {
   "codemirror_mode": {
    "name": "ipython",
    "version": 3
   },
   "file_extension": ".py",
   "mimetype": "text/x-python",
   "name": "python",
   "nbconvert_exporter": "python",
   "pygments_lexer": "ipython3",
   "version": "3.8.5"
  }
 },
 "nbformat": 4,
 "nbformat_minor": 4
}
